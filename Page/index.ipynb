{
 "cells": [
  {
   "cell_type": "markdown",
   "metadata": {},
   "source": [
    "# MultiOmics2024\n",
    "<!-- pagebreak -->\n",
    "![Logo MutiOmics](./elements/img/Logo/Logo_Multi-omics_4.png)\n",
    "![Logo MutiOmics](./elements/img/Logo/Logo_Multi-omics_1.png)\n",
    "\n",
    "<!-- pagebreak -->\n",
    "# Cover\n",
    "\n",
    "<!-- pagebreak -->\n",
    "\n",
    "# Agenda\n",
    "![Agenda_1](./elements/img/Page/Agenda_1.jpeg)\n",
    "![Agenda_2](./elements/img/Page/Agenda_1.jpeg)\n",
    "<!-- pagebreak -->\n",
    "# Exhibitors\n",
    "<!-- pagebreak -->\n",
    "# Table of Contents\n",
    "- [Content](#content)\n",
    "- [UNIX](https://github.com/KKUPC/MultiOmics2024/blob/98322b69fa8e70c8fd1754b511a8d4b395c161c2/02%20UNIX%20session/Content/UNIX_Document.md)\n",
    "<!-- pagebreak -->\n",
    "# Content\n"
   ]
  }
 ],
 "metadata": {
  "kernelspec": {
   "display_name": "Python 3",
   "language": "python",
   "name": "python3"
  },
  "language_info": {
   "codemirror_mode": {
    "name": "ipython",
    "version": 3
   },
   "file_extension": ".py",
   "mimetype": "text/x-python",
   "name": "python",
   "nbconvert_exporter": "python",
   "pygments_lexer": "ipython3",
   "version": "3.11.7"
  }
 },
 "nbformat": 4,
 "nbformat_minor": 2
}
