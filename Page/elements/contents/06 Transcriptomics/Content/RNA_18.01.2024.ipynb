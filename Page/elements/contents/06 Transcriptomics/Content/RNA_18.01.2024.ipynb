{
 "cells": [
  {
   "cell_type": "markdown",
   "id": "df5ce4de-dd77-4b29-9dc7-073781506aef",
   "metadata": {
    "tags": []
   },
   "source": [
    "# Installing packages\n",
    "\n",
    "## Installing packages from PyPI\n",
    "To install a package from the Python Package Index (PyPI), use the `pip` command\n",
    "```bash\n",
    "pip install <package-name>\n",
    "```\n"
   ]
  },
  {
   "cell_type": "code",
   "execution_count": null,
   "id": "faa9108b-c431-462a-b507-04a0a8900837",
   "metadata": {},
   "outputs": [],
   "source": [
    "#Install package\n",
    "!pip install pandas matplotlib pydeseq2 seaborn plotnine "
   ]
  },
  {
   "cell_type": "markdown",
   "id": "33cc5f4c-c5d6-462c-ac06-42342999a4be",
   "metadata": {},
   "source": [
    "# Import tools\n",
    "To import a package, use the `import` command\n",
    "```python\n",
    "import <package-name>\n",
    "```\n"
   ]
  },
  {
   "cell_type": "code",
   "execution_count": 2,
   "id": "f36f13e5-64e2-4cbd-840e-a868062b49db",
   "metadata": {},
   "outputs": [],
   "source": [
    "import matplotlib.pyplot as plt\n",
    "from pydeseq2.ds import DeseqStats\n",
    "from pydeseq2.dds import DeseqDataSet\n",
    "from pydeseq2.dds import DeseqDataSet"
   ]
  },
  {
   "cell_type": "markdown",
   "id": "dc5f8885-98bc-4486-b5aa-3140ccb507b8",
   "metadata": {},
   "source": [
    "# Import data\n",
    "\n",
    "## Import data from a CSV file\n",
    "To import data from a CSV file, use the `pandas` package\n",
    "```python\n",
    "import pandas as pd\n",
    "df = pd.read_csv('<file-name>.csv')\n",
    "```"
   ]
  },
  {
   "cell_type": "code",
   "execution_count": 6,
   "id": "25a0430f-d74b-4df1-93b9-48fa6f2d398e",
   "metadata": {},
   "outputs": [],
   "source": [
    "counts = pd.read_csv('Replace/Your/Directory.csv')\n",
    "counts"
   ]
  },
  {
   "cell_type": "markdown",
   "id": "e6be83d7-aa36-45bb-a99b-dc4d76b3a680",
   "metadata": {},
   "source": [
    "# Data trim and manipulation\n",
    "\n",
    "## Trim data\n",
    "To trim data, use the `pandas` package\n",
    "```python\n",
    "df = df[<column-name> == <value>]\n",
    "```\n",
    "This will return a new dataframe with rows that have `<column-name>` equal to `<value>"
   ]
  },
  {
   "cell_type": "code",
   "execution_count": 8,
   "id": "bf188fa7-3c45-4b79-aff6-c10dcc12ddd2",
   "metadata": {},
   "outputs": [],
   "source": [
    "counts = counts.set_index('ensgene') \n",
    "counts"
   ]
  },
  {
   "cell_type": "code",
   "execution_count": 10,
   "id": "d23039fd-e382-4a66-b901-b06e97c8fa2b",
   "metadata": {},
   "outputs": [],
   "source": [
    "counts = counts[counts.sum(axis = 1) > 0]\n",
    "counts"
   ]
  },
  {
   "cell_type": "code",
   "execution_count": 12,
   "id": "1f00713e-ee4f-4681-9197-527fa84b6d55",
   "metadata": {},
   "outputs": [],
   "source": [
    "counts = counts.T\n",
    "counts"
   ]
  },
  {
   "cell_type": "code",
   "execution_count": 14,
   "id": "dc1699c1-1d47-4e6c-95fc-96833bb128a2",
   "metadata": {},
   "outputs": [],
   "source": [
    "metadata = pd.DataFrame(zip(counts.index, ['C', 'C', 'C', 'C', 'T', 'T', 'T', 'T']), columns = ['Sample', 'Condition'])\n",
    "metadata"
   ]
  },
  {
   "cell_type": "code",
   "execution_count": 16,
   "id": "60d0d703-c3af-482b-a217-6bd9c56621f2",
   "metadata": {},
   "outputs": [],
   "source": [
    "metadata = metadata.set_index('Sample')\n",
    "metadata"
   ]
  },
  {
   "cell_type": "code",
   "execution_count": 18,
   "id": "669d1e36-0000-4b1f-92d2-4bc27eae24d9",
   "metadata": {},
   "outputs": [],
   "source": [
    "dds = DeseqDataSet(counts = counts,metadata = metadata,design_factors = \"Condition\")\n",
    "dds"
   ]
  },
  {
   "cell_type": "code",
   "execution_count": null,
   "id": "dd0d6601-a6b1-42c2-881f-103e85910573",
   "metadata": {},
   "outputs": [],
   "source": [
    "dds.obs"
   ]
  },
  {
   "cell_type": "code",
   "execution_count": null,
   "id": "dadb3ead-69dc-4161-bb06-991ee95a4d3d",
   "metadata": {},
   "outputs": [],
   "source": [
    "dds.var"
   ]
  },
  {
   "cell_type": "code",
   "execution_count": null,
   "id": "3b23aae1-11fd-4623-b456-9aa3728f186e",
   "metadata": {},
   "outputs": [],
   "source": [
    "dds.X"
   ]
  },
  {
   "cell_type": "markdown",
   "id": "b47a5869-26ab-47db-85f5-8f291a180d89",
   "metadata": {},
   "source": [
    "# Data analysis\n"
   ]
  },
  {
   "cell_type": "code",
   "execution_count": null,
   "id": "c580a012-3e68-41c3-bc64-36f3cb664238",
   "metadata": {},
   "outputs": [],
   "source": [
    "dds.deseq2()"
   ]
  },
  {
   "cell_type": "code",
   "execution_count": 28,
   "id": "f071d498-1478-488b-aa71-b3e73a89bd9d",
   "metadata": {},
   "outputs": [],
   "source": [
    "stat_res = DeseqStats(dds, contrast = ('Condition','T','C'))"
   ]
  },
  {
   "cell_type": "code",
   "execution_count": null,
   "id": "2819ffb3-3b82-417d-853b-f5a0ee18037e",
   "metadata": {},
   "outputs": [],
   "source": [
    "stat_res.summary()"
   ]
  },
  {
   "cell_type": "code",
   "execution_count": 30,
   "id": "534961ab-2d6c-4b38-83c2-62d077258688",
   "metadata": {},
   "outputs": [],
   "source": [
    "res = stat_res.results_df"
   ]
  },
  {
   "cell_type": "code",
   "execution_count": null,
   "id": "59c93da8-f9b3-4865-b7c6-fe290b07c6e6",
   "metadata": {},
   "outputs": [],
   "source": [
    "res"
   ]
  },
  {
   "cell_type": "code",
   "execution_count": null,
   "id": "05abb185-3fd5-4cdb-8ac1-5c1782eaf409",
   "metadata": {},
   "outputs": [],
   "source": [
    "pip install sanbomics"
   ]
  },
  {
   "cell_type": "code",
   "execution_count": 34,
   "id": "3e08e68b-f046-4e2b-804b-563a99ef6c55",
   "metadata": {},
   "outputs": [],
   "source": [
    "from sanbomics.tools import id_map"
   ]
  },
  {
   "cell_type": "code",
   "execution_count": 35,
   "id": "239248ad-dfa7-4902-9292-76cd6d356298",
   "metadata": {},
   "outputs": [],
   "source": [
    "mapper = id_map(species = 'human')"
   ]
  },
  {
   "cell_type": "code",
   "execution_count": 36,
   "id": "e4c661e3-01d6-41ce-9632-327dbf4ae687",
   "metadata": {},
   "outputs": [],
   "source": [
    "res['Symbol'] = res.index.map(mapper.mapper)"
   ]
  },
  {
   "cell_type": "code",
   "execution_count": null,
   "id": "d3a88b33-3923-42ea-8ae3-f77edb1bfe5e",
   "metadata": {},
   "outputs": [],
   "source": [
    "res"
   ]
  },
  {
   "cell_type": "code",
   "execution_count": 38,
   "id": "7602b39d-1298-4165-bafc-192d8b87b99d",
   "metadata": {},
   "outputs": [],
   "source": [
    "res = res[res.baseMean >= 10]"
   ]
  },
  {
   "cell_type": "code",
   "execution_count": null,
   "id": "01772ea6-ce0a-4daa-8084-755d43b8f930",
   "metadata": {},
   "outputs": [],
   "source": [
    "res"
   ]
  },
  {
   "cell_type": "code",
   "execution_count": 40,
   "id": "e8dd7b30-edd0-4e81-bf39-f9109e7a3176",
   "metadata": {},
   "outputs": [],
   "source": [
    "sigs = res[(res.padj < 0.05) & (abs(res.log2FoldChange) > 0.5)]"
   ]
  },
  {
   "cell_type": "code",
   "execution_count": null,
   "id": "04aae560-4684-4bdc-9c41-cb7ee7c25bec",
   "metadata": {},
   "outputs": [],
   "source": [
    "sigs"
   ]
  },
  {
   "cell_type": "code",
   "execution_count": null,
   "id": "41ab1a94-2f58-4571-866f-2b96b60e3369",
   "metadata": {},
   "outputs": [],
   "source": [
    "dds.layers['normed_counts']"
   ]
  },
  {
   "cell_type": "code",
   "execution_count": 44,
   "id": "cc079b95-527f-4b9c-862a-018ab858c7bb",
   "metadata": {},
   "outputs": [],
   "source": [
    "import numpy as np"
   ]
  },
  {
   "cell_type": "code",
   "execution_count": 45,
   "id": "8b8bea9b-30fa-433d-b6ce-7d485a06a393",
   "metadata": {},
   "outputs": [],
   "source": [
    "import seaborn as sns"
   ]
  },
  {
   "cell_type": "code",
   "execution_count": 46,
   "id": "2c8d65c0-162c-4104-b460-4ea2e84a3029",
   "metadata": {},
   "outputs": [],
   "source": [
    "dds.layers['log1p']=np.log1p(dds.layers['normed_counts'])"
   ]
  },
  {
   "cell_type": "code",
   "execution_count": null,
   "id": "2ad6605d-c6e7-4f07-94ec-fbc886e1eb05",
   "metadata": {},
   "outputs": [],
   "source": [
    "dds"
   ]
  },
  {
   "cell_type": "code",
   "execution_count": 48,
   "id": "b2236118-d403-4912-afd0-4b0b1583880d",
   "metadata": {},
   "outputs": [],
   "source": [
    "dds_sigs = dds[:, sigs.index]"
   ]
  },
  {
   "cell_type": "code",
   "execution_count": null,
   "id": "29de5f25-b236-4822-8518-e6e302418022",
   "metadata": {},
   "outputs": [],
   "source": [
    "dds_sigs"
   ]
  },
  {
   "cell_type": "code",
   "execution_count": null,
   "id": "0b8f9ecc-a9dc-457c-ae23-586bcbeefc55",
   "metadata": {},
   "outputs": [],
   "source": [
    "dds_sigs.var_names"
   ]
  },
  {
   "cell_type": "code",
   "execution_count": null,
   "id": "3ba2cc69-8770-451c-bc6a-c7d22d33ca11",
   "metadata": {},
   "outputs": [],
   "source": [
    "dds_sigs.obs_names"
   ]
  },
  {
   "cell_type": "code",
   "execution_count": 52,
   "id": "fc7006fc-aeaa-484d-8404-0daff88db9b3",
   "metadata": {},
   "outputs": [],
   "source": [
    "grapher = pd.DataFrame(dds_sigs.layers['log1p'].T,\n",
    "                       index=dds_sigs.var_names, columns=dds_sigs.obs_names)"
   ]
  },
  {
   "cell_type": "code",
   "execution_count": null,
   "id": "ab43a675-efd0-4250-9a4b-7e02cb59900e",
   "metadata": {},
   "outputs": [],
   "source": [
    "grapher"
   ]
  },
  {
   "cell_type": "code",
   "execution_count": null,
   "id": "ed1914b3-c764-4264-90b7-5b4721c38f36",
   "metadata": {},
   "outputs": [],
   "source": [
    "sns.clustermap(grapher, z_score=0, cmap = 'RdYlBu_r', vmin = -2, vmax = 2)"
   ]
  },
  {
   "cell_type": "markdown",
   "id": "6cb05de0",
   "metadata": {},
   "source": [
    "## [Home](../../../../../index.html)"
   ]
  }
 ],
 "metadata": {
  "kernelspec": {
   "display_name": "Python 3 (ipykernel)",
   "language": "python",
   "name": "python3"
  },
  "language_info": {
   "codemirror_mode": {
    "name": "ipython",
    "version": 3
   },
   "file_extension": ".py",
   "mimetype": "text/x-python",
   "name": "python",
   "nbconvert_exporter": "python",
   "pygments_lexer": "ipython3",
   "version": "3.10.9"
  }
 },
 "nbformat": 4,
 "nbformat_minor": 5
}
